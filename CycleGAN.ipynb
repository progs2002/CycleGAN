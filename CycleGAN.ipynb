{
 "cells": [
  {
   "cell_type": "code",
   "execution_count": 1,
   "id": "e8d3a6da",
   "metadata": {},
   "outputs": [],
   "source": [
    "import torch \n",
    "import torch.nn as nn"
   ]
  },
  {
   "cell_type": "code",
   "execution_count": 11,
   "id": "f746a74e",
   "metadata": {},
   "outputs": [],
   "source": [
    "class Layer_C(nn.Module):\n",
    "    def __init__(self, k, stride=2, padding=0, norm=True):\n",
    "        super().__init__()\n",
    "        self.conv = nn.LazyConv2d(k,(4,4),stride=stride,padding=padding)\n",
    "        if norm:\n",
    "            self.instance_norm = nn.InstanceNorm2d(k)\n",
    "        else:\n",
    "            self.instance_norm = nn.Identity()\n",
    "        self.act = nn.LeakyReLU(0.2)\n",
    "    def forward(self, x):\n",
    "        x = self.conv(x)\n",
    "        x = self.instance_norm(x)\n",
    "        x = self.act(x)\n",
    "        return x"
   ]
  },
  {
   "cell_type": "code",
   "execution_count": 13,
   "id": "274b78a6",
   "metadata": {},
   "outputs": [],
   "source": [
    "class Discriminator(nn.Module):\n",
    "    def __init__(self):\n",
    "        super().__init__()\n",
    "        self.layers = nn.Sequential(\n",
    "            Layer_C(64,2,1,norm=False),\n",
    "            Layer_C(128,2,1),\n",
    "            Layer_C(256,2,1),\n",
    "            Layer_C(512,1,1),\n",
    "            Layer_C(1,1,1),\n",
    "            nn.Sigmoid()\n",
    "        )\n",
    "    def forward(self, x):\n",
    "        x = self.layers(x)\n",
    "        return x"
   ]
  },
  {
   "cell_type": "code",
   "execution_count": 17,
   "id": "e24e8b0b",
   "metadata": {},
   "outputs": [],
   "source": [
    "a = torch.randn(64,3,256,256)"
   ]
  },
  {
   "cell_type": "code",
   "execution_count": 18,
   "id": "bca2e472",
   "metadata": {},
   "outputs": [],
   "source": [
    "D = Discriminator()"
   ]
  },
  {
   "cell_type": "code",
   "execution_count": 20,
   "id": "bd0e02e1",
   "metadata": {},
   "outputs": [],
   "source": [
    "out = D(a)"
   ]
  },
  {
   "cell_type": "code",
   "execution_count": 29,
   "id": "894eaf24",
   "metadata": {},
   "outputs": [],
   "source": [
    "import einops"
   ]
  },
  {
   "cell_type": "code",
   "execution_count": 33,
   "id": "ab12f051",
   "metadata": {},
   "outputs": [],
   "source": [
    "out2 = einops.rearrange(out, 'B C H W -> B (C H W)')"
   ]
  },
  {
   "cell_type": "code",
   "execution_count": 37,
   "id": "aae74c4b",
   "metadata": {},
   "outputs": [
    {
     "data": {
      "text/plain": [
       "tensor([[0.5683],\n",
       "        [0.5666],\n",
       "        [0.5672],\n",
       "        [0.5682],\n",
       "        [0.5676],\n",
       "        [0.5671],\n",
       "        [0.5665],\n",
       "        [0.5678],\n",
       "        [0.5663],\n",
       "        [0.5679],\n",
       "        [0.5666],\n",
       "        [0.5671],\n",
       "        [0.5658],\n",
       "        [0.5676],\n",
       "        [0.5675],\n",
       "        [0.5672],\n",
       "        [0.5655],\n",
       "        [0.5670],\n",
       "        [0.5677],\n",
       "        [0.5672],\n",
       "        [0.5677],\n",
       "        [0.5675],\n",
       "        [0.5674],\n",
       "        [0.5673],\n",
       "        [0.5679],\n",
       "        [0.5665],\n",
       "        [0.5680],\n",
       "        [0.5679],\n",
       "        [0.5663],\n",
       "        [0.5659],\n",
       "        [0.5684],\n",
       "        [0.5674],\n",
       "        [0.5672],\n",
       "        [0.5674],\n",
       "        [0.5675],\n",
       "        [0.5664],\n",
       "        [0.5673],\n",
       "        [0.5698],\n",
       "        [0.5673],\n",
       "        [0.5667],\n",
       "        [0.5672],\n",
       "        [0.5683],\n",
       "        [0.5670],\n",
       "        [0.5668],\n",
       "        [0.5679],\n",
       "        [0.5663],\n",
       "        [0.5676],\n",
       "        [0.5659],\n",
       "        [0.5678],\n",
       "        [0.5669],\n",
       "        [0.5653],\n",
       "        [0.5678],\n",
       "        [0.5680],\n",
       "        [0.5679],\n",
       "        [0.5659],\n",
       "        [0.5676],\n",
       "        [0.5679],\n",
       "        [0.5667],\n",
       "        [0.5687],\n",
       "        [0.5679],\n",
       "        [0.5661],\n",
       "        [0.5654],\n",
       "        [0.5692],\n",
       "        [0.5677]], grad_fn=<MeanBackward1>)"
      ]
     },
     "execution_count": 37,
     "metadata": {},
     "output_type": "execute_result"
    }
   ],
   "source": [
    "torch.mean(out2, dim=1, keepdim=True)"
   ]
  }
 ],
 "metadata": {
  "kernelspec": {
   "display_name": "Python 3 (ipykernel)",
   "language": "python",
   "name": "python3"
  },
  "language_info": {
   "codemirror_mode": {
    "name": "ipython",
    "version": 3
   },
   "file_extension": ".py",
   "mimetype": "text/x-python",
   "name": "python",
   "nbconvert_exporter": "python",
   "pygments_lexer": "ipython3",
   "version": "3.11.3"
  }
 },
 "nbformat": 4,
 "nbformat_minor": 5
}
