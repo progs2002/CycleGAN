{
 "cells": [
  {
   "cell_type": "code",
   "execution_count": 1,
   "id": "48d717ff",
   "metadata": {},
   "outputs": [],
   "source": [
    "import torch \n",
    "import torch.nn as nn"
   ]
  },
  {
   "cell_type": "code",
   "execution_count": 107,
   "id": "fbb74821",
   "metadata": {},
   "outputs": [],
   "source": [
    "class Layer_c7s1(nn.Module):\n",
    "    def __init__(self, k):\n",
    "        super().__init__()\n",
    "        self.conv = nn.LazyConv2d(k,(7,7),stride=1,padding=3)\n",
    "        self.instance_norm = nn.InstanceNorm2d(k)\n",
    "    def forward(self, x):\n",
    "        x = self.conv(x)\n",
    "        x = self.instance_norm(x)\n",
    "        x = torch.relu(x)\n",
    "        return x"
   ]
  },
  {
   "cell_type": "code",
   "execution_count": 106,
   "id": "47282823",
   "metadata": {},
   "outputs": [],
   "source": [
    "class Layer_d(nn.Module):\n",
    "    def __init__(self, k):\n",
    "        super().__init__()\n",
    "        self.conv = nn.LazyConv2d(k,(3,3),stride=2,padding=1)\n",
    "        self.instance_norm = nn.InstanceNorm2d(k)\n",
    "    def forward(self, x):\n",
    "        x = self.conv(x)\n",
    "        x = self.instance_norm(x)\n",
    "        x = torch.relu(x)\n",
    "        return x"
   ]
  },
  {
   "cell_type": "code",
   "execution_count": 143,
   "id": "dc639ce3",
   "metadata": {},
   "outputs": [],
   "source": [
    "class Layer_R(nn.Module):\n",
    "    def __init__(self, k):\n",
    "        super().__init__()\n",
    "        self.conv = nn.LazyConv2d(k,(3,3),padding=1)\n",
    "        self.instance_norm = nn.InstanceNorm2d(k)\n",
    "    def forward(self, x):\n",
    "        residual = x\n",
    "        x = self.conv(x)\n",
    "        x = self.instance_norm(x)\n",
    "        x = torch.relu(x)\n",
    "        x = self.conv(x)\n",
    "        x = self.instance_norm(x)\n",
    "        x = torch.relu(x)\n",
    "        x += residual \n",
    "        return x"
   ]
  },
  {
   "cell_type": "code",
   "execution_count": 138,
   "id": "b0032539",
   "metadata": {},
   "outputs": [],
   "source": [
    "class Layer_u(nn.Module):\n",
    "    def __init__(self,k):\n",
    "        super().__init__()\n",
    "        self.conv = nn.LazyConvTranspose2d(k,(3,3),stride=2,padding=1,output_padding=1)\n",
    "        self.instance_norm = nn.InstanceNorm2d(k)\n",
    "    def forward(self, x):\n",
    "        x = self.conv(x)\n",
    "        x = self.instance_norm(x)\n",
    "        x = torch.relu(x)\n",
    "        return x"
   ]
  },
  {
   "cell_type": "code",
   "execution_count": 144,
   "id": "2a3d11a5",
   "metadata": {},
   "outputs": [],
   "source": [
    "class Generator(nn.Module):\n",
    "    def __init__(self, num_residual_blocks):\n",
    "        super().__init__()\n",
    "        self.num_residual_blocks = num_residual_blocks\n",
    "        self.layers1 = nn.Sequential(\n",
    "            Layer_c7s1(64),\n",
    "            Layer_d(128),\n",
    "            Layer_d(256)\n",
    "        )\n",
    "        self.residual = Layer_R(256)\n",
    "        self.layers2 = nn.Sequential(\n",
    "            Layer_u(128),\n",
    "            Layer_u(64),\n",
    "            Layer_c7s1(3)\n",
    "        )\n",
    "    def forward(self, x):\n",
    "        x = self.layers1(x)\n",
    "        for _ in range(self.num_residual_blocks):\n",
    "            x = self.residual(x)\n",
    "        x = self.layers2(x)\n",
    "        return x"
   ]
  }
 ],
 "metadata": {
  "kernelspec": {
   "display_name": "Python 3 (ipykernel)",
   "language": "python",
   "name": "python3"
  },
  "language_info": {
   "codemirror_mode": {
    "name": "ipython",
    "version": 3
   },
   "file_extension": ".py",
   "mimetype": "text/x-python",
   "name": "python",
   "nbconvert_exporter": "python",
   "pygments_lexer": "ipython3",
   "version": "3.11.3"
  }
 },
 "nbformat": 4,
 "nbformat_minor": 5
}
